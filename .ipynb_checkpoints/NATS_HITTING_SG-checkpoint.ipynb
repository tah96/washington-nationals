{
 "cells": [
  {
   "cell_type": "code",
   "execution_count": null,
   "metadata": {},
   "outputs": [],
   "source": [
    "from bs4 import BeautifulSoup as bs\n",
    "import requests\n",
    "import re\n",
    "from splinter import Browser\n",
    "import pandas as pd\n",
    "import itertools"
   ]
  },
  {
   "cell_type": "code",
   "execution_count": null,
   "metadata": {},
   "outputs": [],
   "source": [
    "#Define Executable Path for ChromeDriver to use for web scraping\n",
    "\n",
    "executable_path = {'executable_path': '/usr/local/bin/chromedriver'}\n",
    "browser = Browser('chrome', **executable_path, headless=False)"
   ]
  },
  {
   "cell_type": "code",
   "execution_count": null,
   "metadata": {},
   "outputs": [],
   "source": [
    "# Define base endpoint URL. Other url's will be built off this endpoint.\n",
    "\n",
    "baseball_reference_main = 'https://www.baseball-reference.com'\n",
    "nats_schedule_endpoint = '/teams/WSN/2021-schedule-scores.shtml'\n",
    "nats_schedule_page = baseball_reference_main + nats_schedule_endpoint\n",
    "browser.visit(nats_schedule_page)"
   ]
  },
  {
   "cell_type": "code",
   "execution_count": null,
   "metadata": {},
   "outputs": [],
   "source": [
    "#Use Beautiful Soup HTML.parser to extract relvant details about news articles\n",
    "\n",
    "schedule_html = browser.html\n",
    "schedule_soup = bs(schedule_html, 'html.parser')\n",
    "schedule_soup"
   ]
  },
  {
   "cell_type": "code",
   "execution_count": null,
   "metadata": {},
   "outputs": [],
   "source": [
    "# Extract list of games\n",
    "\n",
    "game_listings = schedule_soup.find('table', class_=\"sortable stats_table now_sortable\", id=\"team_schedule\").find('tbody').find_all('tr',class_=lambda x: x != 'thead')\n",
    "game_listings"
   ]
  },
  {
   "cell_type": "code",
   "execution_count": null,
   "metadata": {},
   "outputs": [],
   "source": [
    "test = game_listings[54]\n",
    "test"
   ]
  },
  {
   "cell_type": "code",
   "execution_count": null,
   "metadata": {},
   "outputs": [],
   "source": [
    "boxscore_braves = test.find_all('td')[1]\n",
    "boxscore_braves_endpoint = boxscore_braves.a['href']\n",
    "boxscore_braves_endpoint"
   ]
  },
  {
   "cell_type": "code",
   "execution_count": null,
   "metadata": {},
   "outputs": [],
   "source": [
    "boxscore_url = baseball_reference_main + boxscore_braves_endpoint\n",
    "browser.visit(boxscore_url)\n",
    "box_html = browser.html\n",
    "box_soup = bs(box_html, 'html.parser')"
   ]
  },
  {
   "cell_type": "code",
   "execution_count": null,
   "metadata": {},
   "outputs": [],
   "source": [
    "box_soup"
   ]
  },
  {
   "cell_type": "code",
   "execution_count": null,
   "metadata": {},
   "outputs": [],
   "source": [
    "nats_batting = box_soup.find('table', id=\"WashingtonNationalsbatting\")\n",
    "nats_batting"
   ]
  },
  {
   "cell_type": "code",
   "execution_count": null,
   "metadata": {},
   "outputs": [],
   "source": [
    "nats_hitting_headers = box_soup.find('div', id=\"div_WashingtonNationalsbatting\").find('thead').find('tr').find_all('th')\n",
    "nats_batting_headers = []\n",
    "\n",
    "nats_batting_headers.append('Name')\n",
    "nats_batting_headers.append('Position')\n",
    "\n",
    "for header in nats_hitting_headers:\n",
    "    one_header = header.text\n",
    "    if one_header != 'Batting':\n",
    "       nats_batting_headers.append(one_header) \n",
    "    else:\n",
    "       print('Batting header not to be used') \n",
    "\n",
    "nats_batting_headers"
   ]
  },
  {
   "cell_type": "code",
   "execution_count": null,
   "metadata": {},
   "outputs": [],
   "source": [
    "nats_hs_location = box_soup.find('div', id=\"div_WashingtonNationalsbatting\").find('tbody')\n",
    "names_positions_stats = nats_hs_location.find_all('tr')\n",
    "\n",
    "All_players_Info = []\n",
    "\n",
    "for players in names_positions_stats:\n",
    "    list_atts = []\n",
    "    error_log = []\n",
    "    name_and_position = players.find('th')\n",
    "    player_content_length = len(name_and_position.contents)\n",
    "    try:\n",
    "        if player_content_length == 2:\n",
    "            player_name = name_and_position.contents[0].text\n",
    "            player_position = name_and_position.contents[1]\n",
    "\n",
    "        else:\n",
    "            player_name = name_and_position.contents[1].text\n",
    "            player_position = name_and_position.contents[2]\n",
    "        stats_for_players = players.find_all('td')\n",
    "        list_atts.append(player_name)\n",
    "        list_atts.append(player_position)\n",
    "        indiv_stat_list = []\n",
    "        for stat in stats_for_players:\n",
    "            each_stat = stat.text\n",
    "            list_atts.append(each_stat)\n",
    "    except IndexError:\n",
    "        print('Likely Spacer given AL Away game. Need to check')\n",
    "    \n",
    "    All_players_Info.append(list_atts)\n",
    "    \n",
    "All_players_Info"
   ]
  },
  {
   "cell_type": "code",
   "execution_count": null,
   "metadata": {},
   "outputs": [],
   "source": [
    "error_log"
   ]
  },
  {
   "cell_type": "code",
   "execution_count": null,
   "metadata": {},
   "outputs": [],
   "source": [
    "df = pd.DataFrame(All_players_Info, columns = nats_batting_headers)"
   ]
  },
  {
   "cell_type": "code",
   "execution_count": null,
   "metadata": {},
   "outputs": [],
   "source": [
    "df"
   ]
  },
  {
   "cell_type": "code",
   "execution_count": null,
   "metadata": {},
   "outputs": [],
   "source": [
    "testing = df['Details']\n",
    "testing"
   ]
  },
  {
   "cell_type": "code",
   "execution_count": null,
   "metadata": {},
   "outputs": [],
   "source": [
    "HR = []\n",
    "for test in testing:\n",
    "    if '4 HR' in test:\n",
    "        print('This Player Hit 4 homeruns')\n",
    "    elif '3 HR' in test:\n",
    "        print('This Player Hit 3 Homeruns')\n",
    "    elif '2 HR' in test:\n",
    "        print('This Player Hit 2 Homeruns')\n",
    "    elif 'HR' in test:\n",
    "        print('This Player Hit 1 Homerun')\n",
    "    else:\n",
    "        print('No Homer Dolo...')"
   ]
  },
  {
   "cell_type": "code",
   "execution_count": null,
   "metadata": {},
   "outputs": [],
   "source": [
    "testing_2 = df['Details'].to_list()\n",
    "HR = []\n",
    "_2B = []\n",
    "_3B = []\n",
    "HBP = []\n"
   ]
  },
  {
   "cell_type": "code",
   "execution_count": null,
   "metadata": {},
   "outputs": [],
   "source": [
    "for test in testing_2:\n",
    "    if 'HR' in test:\n",
    "        values = test.split(',')\n",
    "        for value in values:\n",
    "            if 'HR' in value:\n",
    "                number_of_hr = re.split('[· ]', value)[0]\n",
    "                print(number_of_hr)\n",
    "                if number_of_hr == 'HR':\n",
    "                    HR.append(1)\n",
    "                else:\n",
    "                    HR.append(number_of_hr)\n",
    "            else:\n",
    "                print('Placeholder. No Action')\n",
    "    else:\n",
    "        HR.append(0)"
   ]
  },
  {
   "cell_type": "code",
   "execution_count": null,
   "metadata": {},
   "outputs": [],
   "source": [
    "for test in testing_2:\n",
    "    if '2B' in test:\n",
    "        values = test.split(',')\n",
    "        for value in values:\n",
    "            if '2B' in value:\n",
    "                number_of_2B = re.split('[· ]', value)[0]\n",
    "                if number_of_2B == '2B':\n",
    "                    _2B.append(1)\n",
    "                else:\n",
    "                    _2B.append(number_of_2B)\n",
    "            else:\n",
    "                print('Placeholder. No Action')\n",
    "    else:\n",
    "        _2B.append(0)"
   ]
  },
  {
   "cell_type": "code",
   "execution_count": null,
   "metadata": {},
   "outputs": [],
   "source": [
    "for test in testing_2:\n",
    "    if '3B' in test:\n",
    "        values = test.split(',')\n",
    "        for value in values:\n",
    "            if '3B' in value:\n",
    "                number_of_3B = re.split('[· ]', value)[0]\n",
    "                if number_of_3B == '3B':\n",
    "                    _3B.append(1)\n",
    "                else:\n",
    "                    _3B.append(number_of_3B)\n",
    "            else:\n",
    "                print('Placeholder. No Action')\n",
    "    else:\n",
    "        _3B.append(0)"
   ]
  },
  {
   "cell_type": "code",
   "execution_count": null,
   "metadata": {},
   "outputs": [],
   "source": [
    "for test in testing_2:\n",
    "    if 'HBP' in test:\n",
    "        values = test.split(',')\n",
    "        for value in values:\n",
    "            if 'HBP' in value:\n",
    "                number_of_hbp = re.split('[· ]', value)[0]\n",
    "                if number_of_hbp == 'HBP':\n",
    "                    HBP.append(1)\n",
    "                else:\n",
    "                    HBP.append(number_of_hbp)\n",
    "            else:\n",
    "                print('Placeholder. No Action')\n",
    "    else:\n",
    "        HBP.append(0)"
   ]
  },
  {
   "cell_type": "code",
   "execution_count": null,
   "metadata": {},
   "outputs": [],
   "source": [
    "df['HR'] = HR\n",
    "df['2B'] = _2B\n",
    "df['3B'] = _3B\n",
    "df['HBP'] = HBP"
   ]
  },
  {
   "cell_type": "code",
   "execution_count": null,
   "metadata": {},
   "outputs": [],
   "source": [
    "df"
   ]
  },
  {
   "cell_type": "code",
   "execution_count": null,
   "metadata": {},
   "outputs": [],
   "source": [
    "df.drop(df.loc[(df['PA']=='0') & (df['Position']==' P')].index, inplace=True)"
   ]
  },
  {
   "cell_type": "code",
   "execution_count": null,
   "metadata": {},
   "outputs": [],
   "source": [
    "df"
   ]
  },
  {
   "cell_type": "code",
   "execution_count": null,
   "metadata": {},
   "outputs": [],
   "source": [
    "df = df.replace(\"\", 0)"
   ]
  },
  {
   "cell_type": "code",
   "execution_count": null,
   "metadata": {},
   "outputs": [],
   "source": [
    "df"
   ]
  },
  {
   "cell_type": "code",
   "execution_count": null,
   "metadata": {},
   "outputs": [],
   "source": [
    "cleaned_positions = []\n",
    "for position in df['Position']:\n",
    "    pos_obj_to_str = str(position)\n",
    "    whitespace_removed = pos_obj_to_str.strip()\n",
    "    cleaned_positions.append(whitespace_removed)\n",
    "df['Position'] = cleaned_positions"
   ]
  },
  {
   "cell_type": "code",
   "execution_count": null,
   "metadata": {},
   "outputs": [],
   "source": [
    "##df['H'].astype(int)\n",
    "df['AB'] = df['AB'].astype(int)\n",
    "df['H'] = df['H'].astype(int)\n",
    "df['R'] = df['R'].astype(int)\n",
    "df['RBI'] = df['RBI'].astype(int)\n",
    "df['BB'] = df['BB'].astype(int)\n",
    "df['K'] = df['SO'].astype(int)\n",
    "df['PA'] = df['PA'].astype(int)\n",
    "df['Pit'] = df['Pit'].astype(int)\n",
    "df['Str'] = df['Str'].astype(int)\n",
    "df['A'] = df['A'].astype(int)\n",
    "df['PO'] = df['PO'].astype(int)\n",
    "df['HR'] = df['HR'].astype(int)\n",
    "df['2B'] = df['2B'].astype(int)\n",
    "df['3B'] = df['3B'].astype(int)\n",
    "df['HBP'] = df['HBP'].astype(int)"
   ]
  },
  {
   "cell_type": "code",
   "execution_count": null,
   "metadata": {},
   "outputs": [],
   "source": [
    "df.dtypes"
   ]
  },
  {
   "cell_type": "code",
   "execution_count": null,
   "metadata": {},
   "outputs": [],
   "source": [
    "bags_from_xbh = df['HR'] * 4 + df['2B'] * 2 + df['3B'] * 3\n",
    "df['TB'] = bags_from_xbh + (df['H'] - df['HR'] - df['3B'] - df['2B'])"
   ]
  },
  {
   "cell_type": "code",
   "execution_count": null,
   "metadata": {},
   "outputs": [],
   "source": [
    "cleaned_df = df[['Name','Position','AB','R','H','RBI','BB','K','PA','2B','3B','HR','TB','HBP','Pit','Str']]"
   ]
  },
  {
   "cell_type": "code",
   "execution_count": null,
   "metadata": {},
   "outputs": [],
   "source": [
    "cleaned_df"
   ]
  },
  {
   "cell_type": "code",
   "execution_count": null,
   "metadata": {},
   "outputs": [],
   "source": [
    "xxx = 0"
   ]
  },
  {
   "cell_type": "code",
   "execution_count": null,
   "metadata": {
    "scrolled": true
   },
   "outputs": [],
   "source": [
    "cleaned_df.insert(0, 'GAME_ID', xxx)"
   ]
  },
  {
   "cell_type": "code",
   "execution_count": null,
   "metadata": {},
   "outputs": [],
   "source": [
    "cleaned_df"
   ]
  }
 ],
 "metadata": {
  "kernelspec": {
   "display_name": "Python [conda env:PythonData] *",
   "language": "python",
   "name": "conda-env-PythonData-py"
  },
  "language_info": {
   "codemirror_mode": {
    "name": "ipython",
    "version": 3
   },
   "file_extension": ".py",
   "mimetype": "text/x-python",
   "name": "python",
   "nbconvert_exporter": "python",
   "pygments_lexer": "ipython3",
   "version": "3.6.10"
  }
 },
 "nbformat": 4,
 "nbformat_minor": 4
}
