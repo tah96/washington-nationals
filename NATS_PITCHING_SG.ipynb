{
 "cells": [
  {
   "cell_type": "code",
   "execution_count": null,
   "metadata": {},
   "outputs": [],
   "source": [
    "from bs4 import BeautifulSoup as bs\n",
    "import requests\n",
    "import re\n",
    "from splinter import Browser\n",
    "import pandas as pd\n",
    "import itertools"
   ]
  },
  {
   "cell_type": "code",
   "execution_count": null,
   "metadata": {},
   "outputs": [],
   "source": [
    "#Define Executable Path for ChromeDriver to use for web scraping\n",
    "\n",
    "executable_path = {'executable_path': '/usr/local/bin/chromedriver'}\n",
    "browser = Browser('chrome', **executable_path, headless=False)"
   ]
  },
  {
   "cell_type": "code",
   "execution_count": null,
   "metadata": {},
   "outputs": [],
   "source": [
    "# Define base endpoint URL. Other url's will be built off this endpoint.\n",
    "\n",
    "baseball_reference_main = 'https://www.baseball-reference.com'\n",
    "nats_schedule_endpoint = '/teams/WSN/2021-schedule-scores.shtml'\n",
    "nats_schedule_page = baseball_reference_main + nats_schedule_endpoint\n",
    "browser.visit(nats_schedule_page)"
   ]
  },
  {
   "cell_type": "code",
   "execution_count": null,
   "metadata": {},
   "outputs": [],
   "source": [
    "#Use Beautiful Soup HTML.parser to extract relvant details about news articles\n",
    "\n",
    "schedule_html = browser.html\n",
    "schedule_soup = bs(schedule_html, 'html.parser')\n",
    "schedule_soup"
   ]
  },
  {
   "cell_type": "code",
   "execution_count": null,
   "metadata": {},
   "outputs": [],
   "source": [
    "# Extract list of games\n",
    "\n",
    "game_listings = schedule_soup.find('table', class_=\"sortable stats_table now_sortable\", id=\"team_schedule\").find('tbody').find_all('tr',class_=lambda x: x != 'thead')\n",
    "game_listings"
   ]
  },
  {
   "cell_type": "code",
   "execution_count": null,
   "metadata": {},
   "outputs": [],
   "source": [
    "test = game_listings[31]\n",
    "test"
   ]
  },
  {
   "cell_type": "code",
   "execution_count": null,
   "metadata": {},
   "outputs": [],
   "source": [
    "boxscore_braves = test.find_all('td')[1]\n",
    "boxscore_braves_endpoint = boxscore_braves.a['href']\n",
    "boxscore_braves_endpoint"
   ]
  },
  {
   "cell_type": "code",
   "execution_count": null,
   "metadata": {},
   "outputs": [],
   "source": [
    "boxscore_url = baseball_reference_main + boxscore_braves_endpoint\n",
    "browser.visit(boxscore_url)\n",
    "box_html = browser.html\n",
    "box_soup = bs(box_html, 'html.parser')"
   ]
  },
  {
   "cell_type": "code",
   "execution_count": null,
   "metadata": {},
   "outputs": [],
   "source": [
    "box_soup"
   ]
  },
  {
   "cell_type": "code",
   "execution_count": null,
   "metadata": {},
   "outputs": [],
   "source": [
    "nats_pitching = box_soup.find('table', id=\"WashingtonNationalspitching\")\n",
    "nats_pitching"
   ]
  },
  {
   "cell_type": "code",
   "execution_count": null,
   "metadata": {},
   "outputs": [],
   "source": [
    "nats_pitch_headers = box_soup.find('div', id=\"div_WashingtonNationalspitching\").find('thead').find('tr').find_all('th')\n",
    "nats_pitching_headers = []\n",
    "\n",
    "for header in nats_pitch_headers:\n",
    "    one_header = header.text\n",
    "    nats_pitching_headers.append(one_header)\n",
    "    \n",
    "nats_pitching_headers.append('W')\n",
    "nats_pitching_headers.append('L')\n",
    "nats_pitching_headers.append('H')\n",
    "nats_pitching_headers.append('S')\n",
    "nats_pitching_headers.append('BS')\n",
    "\n",
    "nats_pitching_headers"
   ]
  },
  {
   "cell_type": "code",
   "execution_count": null,
   "metadata": {},
   "outputs": [],
   "source": [
    "nats_hs_location = box_soup.find('div', id=\"div_WashingtonNationalspitching\").find('tbody')\n",
    "names_positions_stats = nats_hs_location.find_all('tr')\n",
    "\n",
    "All_pitchers_Info = []\n",
    "\n",
    "for players in names_positions_stats:\n",
    "    list_atts = []\n",
    "    names_and_records = players.find('th')\n",
    "    player_content_length = len(names_and_records.contents)  \n",
    "    player_name = names_and_records.contents[0].text\n",
    "    list_atts.append(player_name)\n",
    "    print(player_name)\n",
    "    print(player_content_length)\n",
    "    stats_for_players = players.find_all('td')\n",
    "    for stat in stats_for_players:\n",
    "        each_stat = stat.text\n",
    "        list_atts.append(each_stat)      \n",
    "    if player_content_length == 2:\n",
    "        player_decision = names_and_records.contents[1]\n",
    "        print(player_decision.split())\n",
    "        decision_split = player_decision.split()\n",
    "        decisionsToCheck = ['W', 'L', 'H', 'S', 'BS']\n",
    "        for decision in decisionsToCheck:\n",
    "            if decision in decision_split:\n",
    "                list_atts.append(1)\n",
    "            else:\n",
    "                list_atts.append(0)\n",
    "    else:\n",
    "        list_atts.extend([0] * 5)\n",
    "    \n",
    "    All_pitchers_Info.append(list_atts)"
   ]
  },
  {
   "cell_type": "code",
   "execution_count": null,
   "metadata": {},
   "outputs": [],
   "source": [
    "All_pitchers_Info"
   ]
  },
  {
   "cell_type": "code",
   "execution_count": null,
   "metadata": {},
   "outputs": [],
   "source": [
    "pitching_df = pd.DataFrame(All_pitchers_Info, columns = nats_pitching_headers)"
   ]
  },
  {
   "cell_type": "code",
   "execution_count": null,
   "metadata": {},
   "outputs": [],
   "source": [
    "pitching_df"
   ]
  },
  {
   "cell_type": "code",
   "execution_count": null,
   "metadata": {},
   "outputs": [],
   "source": [
    "pitching_df = pitching_df.replace(\"\", 0)"
   ]
  },
  {
   "cell_type": "code",
   "execution_count": null,
   "metadata": {},
   "outputs": [],
   "source": [
    "pitching_df"
   ]
  },
  {
   "cell_type": "code",
   "execution_count": null,
   "metadata": {},
   "outputs": [],
   "source": [
    "pitching_df.dtypes"
   ]
  },
  {
   "cell_type": "code",
   "execution_count": null,
   "metadata": {},
   "outputs": [],
   "source": [
    "pitching_df['Pitching'] = pitching_df['Pitching'].astype(str)\n",
    "pitching_df['IP'] = pitching_df['IP'].astype(float)\n",
    "pitching_df['H'] = pitching_df['H'].astype(int)\n",
    "pitching_df['R'] = pitching_df['R'].astype(int)\n",
    "pitching_df['ER'] = pitching_df['ER'].astype(int)\n",
    "pitching_df['BB'] = pitching_df['BB'].astype(int)\n",
    "pitching_df['SO'] = pitching_df['SO'].astype(int)\n",
    "pitching_df['HR'] = pitching_df['HR'].astype(int)\n",
    "pitching_df['ERA'] = pitching_df['ER'].astype(int)\n",
    "pitching_df['BF'] = pitching_df['BF'].astype(int)\n",
    "pitching_df['Pit'] = pitching_df['Pit'].astype(int)\n",
    "pitching_df['Str'] = pitching_df['Str'].astype(int)\n",
    "pitching_df['Ctct'] = pitching_df['Ctct'].astype(int)\n",
    "pitching_df['StS'] = pitching_df['StS'].astype(int)\n",
    "pitching_df['StL'] = pitching_df['StL'].astype(int)\n",
    "pitching_df['GB'] = pitching_df['GB'].astype(int)\n",
    "pitching_df['FB'] = pitching_df['FB'].astype(int)\n",
    "pitching_df['LD'] = pitching_df['LD'].astype(int)\n",
    "pitching_df['Unk'] = pitching_df['Unk'].astype(int)\n",
    "pitching_df['GSc'] = pitching_df['GSc'].astype(int)\n",
    "pitching_df['IR'] = pitching_df['IR'].astype(int)\n",
    "pitching_df['IS'] = pitching_df['IS'].astype(int)\n",
    "pitching_df['WPA'] = pitching_df['WPA'].astype(float)\n",
    "pitching_df['aLI'] = pitching_df['aLI'].astype(float)\n",
    "pitching_df['cWPA'] = pitching_df['cWPA'].astype(str)\n",
    "pitching_df['acLI'] = pitching_df['acLI'].astype(float)\n",
    "pitching_df['RE24'] = pitching_df['RE24'].astype(float)\n",
    "pitching_df['W'] = pitching_df['W'].astype(int)\n",
    "pitching_df['L'] = pitching_df['L'].astype(int)\n",
    "pitching_df['H'] = pitching_df['H'].astype(int)\n",
    "pitching_df['S'] = pitching_df['S'].astype(int)\n",
    "pitching_df['BS'] = pitching_df['BS'].astype(int)\n",
    "\n",
    "pitching_df.dtypes"
   ]
  },
  {
   "cell_type": "code",
   "execution_count": null,
   "metadata": {},
   "outputs": [],
   "source": [
    "pitching_df"
   ]
  },
  {
   "cell_type": "code",
   "execution_count": null,
   "metadata": {},
   "outputs": [],
   "source": []
  },
  {
   "cell_type": "code",
   "execution_count": null,
   "metadata": {},
   "outputs": [],
   "source": []
  }
 ],
 "metadata": {
  "kernelspec": {
   "display_name": "Python [conda env:PythonData] *",
   "language": "python",
   "name": "conda-env-PythonData-py"
  },
  "language_info": {
   "codemirror_mode": {
    "name": "ipython",
    "version": 3
   },
   "file_extension": ".py",
   "mimetype": "text/x-python",
   "name": "python",
   "nbconvert_exporter": "python",
   "pygments_lexer": "ipython3",
   "version": "3.6.10"
  }
 },
 "nbformat": 4,
 "nbformat_minor": 4
}
