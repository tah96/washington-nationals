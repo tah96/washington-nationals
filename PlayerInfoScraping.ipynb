{
 "cells": [
  {
   "cell_type": "code",
   "execution_count": null,
   "metadata": {},
   "outputs": [],
   "source": [
    "from bs4 import BeautifulSoup as bs\n",
    "import requests\n",
    "import re\n",
    "from splinter import Browser\n",
    "import pandas as pd\n",
    "import itertools"
   ]
  },
  {
   "cell_type": "code",
   "execution_count": null,
   "metadata": {},
   "outputs": [],
   "source": [
    "#Define Executable Path for ChromeDriver to use for web scraping\n",
    "\n",
    "executable_path = {'executable_path': '/usr/local/bin/chromedriver'}\n",
    "browser = Browser('chrome', **executable_path, headless=False)"
   ]
  },
  {
   "cell_type": "code",
   "execution_count": null,
   "metadata": {},
   "outputs": [],
   "source": [
    "# Define base endpoint URL. Other url's will be built off this endpoint.\n",
    "\n",
    "baseball_reference_main = 'https://www.baseball-reference.com'\n",
    "nats_roster_endpoint = '/teams/WSN/2021-roster.shtml'\n",
    "nats_roster_page = baseball_reference_main + nats_roster_endpoint\n",
    "browser.visit(nats_roster_page)"
   ]
  },
  {
   "cell_type": "code",
   "execution_count": null,
   "metadata": {},
   "outputs": [],
   "source": [
    "#Use Beautiful Soup HTML.parser to extract relvant details about news articles\n",
    "\n",
    "roster_html = browser.html\n",
    "roster_soup = bs(roster_html, 'html.parser')\n",
    "roster_soup"
   ]
  },
  {
   "cell_type": "code",
   "execution_count": null,
   "metadata": {},
   "outputs": [],
   "source": [
    "testing = roster_soup.find(\"a\", string=\"Trea Turner\")\n",
    "testing_url_string = testing['href']\n",
    "overall_string = baseball_reference_main + testing_url_string\n",
    "overall_string"
   ]
  },
  {
   "cell_type": "code",
   "execution_count": null,
   "metadata": {},
   "outputs": [],
   "source": [
    "all_nats_players_this_season_html = roster_soup.find('table', class_=\"sortable stats_table shade_zero now_sortable\", id=\"appearances\").find('tbody').find_all(attrs={\"data-stat\": \"player\"})"
   ]
  },
  {
   "cell_type": "code",
   "execution_count": null,
   "metadata": {},
   "outputs": [],
   "source": [
    "active_40_man_df = pd.read_html(nats_roster_page,keep_default_na=False)[0]\n",
    "active_40_man_df = active_40_man_df[active_40_man_df.Name != 'Name']\n",
    "active_40_man_df"
   ]
  },
  {
   "cell_type": "code",
   "execution_count": null,
   "metadata": {},
   "outputs": [],
   "source": [
    "active_40_man_df['NatsOrgFlag'] = 1"
   ]
  },
  {
   "cell_type": "code",
   "execution_count": null,
   "metadata": {},
   "outputs": [],
   "source": [
    "active_40_man_df = active_40_man_df.replace('*',1)\n",
    "active_40_man_df"
   ]
  },
  {
   "cell_type": "code",
   "execution_count": null,
   "metadata": {},
   "outputs": [],
   "source": [
    "active_40_man_col_rename = active_40_man_df.rename(columns={\"Unnamed: 3\": \"Country_ISO_Code\",\"Unnamed: 4\": \"GenPos\"},inplace = False)"
   ]
  },
  {
   "cell_type": "code",
   "execution_count": null,
   "metadata": {},
   "outputs": [],
   "source": [
    "active_40_man_col_rename"
   ]
  },
  {
   "cell_type": "code",
   "execution_count": null,
   "metadata": {},
   "outputs": [],
   "source": [
    "revised_country_values = active_40_man_col_rename[\"Country_ISO_Code\"].str.slice(start=-2).to_list()\n",
    "active_40_man_col_rename[\"Country_ISO_Code\"] = revised_country_values"
   ]
  },
  {
   "cell_type": "code",
   "execution_count": null,
   "metadata": {},
   "outputs": [],
   "source": [
    "active_40_man_col_rename = active_40_man_col_rename.drop(['Rk'],axis=1)\n",
    "active_40_man_col_rename"
   ]
  },
  {
   "cell_type": "code",
   "execution_count": null,
   "metadata": {},
   "outputs": [],
   "source": [
    "non_40_man_df = pd.read_html(nats_roster_page,keep_default_na=False)[1]\n",
    "non_40_man_df"
   ]
  },
  {
   "cell_type": "code",
   "execution_count": null,
   "metadata": {},
   "outputs": [],
   "source": [
    "all_season_roster = active_40_man_col_rename.merge(non_40_man_df, on='Name', how='outer')\n",
    "all_season_roster"
   ]
  },
  {
   "cell_type": "code",
   "execution_count": null,
   "metadata": {},
   "outputs": [],
   "source": [
    "all_season_roster_list = all_season_roster['Name'].to_list()\n",
    "all_season_roster_list"
   ]
  },
  {
   "cell_type": "code",
   "execution_count": null,
   "metadata": {},
   "outputs": [],
   "source": [
    "all_season_roster.columns"
   ]
  },
  {
   "cell_type": "code",
   "execution_count": null,
   "metadata": {},
   "outputs": [],
   "source": [
    "all_season_filtered_columns = all_season_roster[['Name','OnActv','IL','Age_y','Unnamed: 2', 'B_y', 'T_y',\n",
    "                                       'Ht_y','Wt_y','DoB_y','G','GS','P','C','1B', '2B', '3B', \n",
    "                                        'SS', 'LF', 'CF','RF', 'OF', 'DH', 'PH', 'PR','NatsOrgFlag']]"
   ]
  },
  {
   "cell_type": "code",
   "execution_count": null,
   "metadata": {},
   "outputs": [],
   "source": [
    "all_season_newColnames = all_season_filtered_columns.rename({'Age_y': 'Age', 'Unnamed: 2': 'Country_Code', 'B_y':'B',\n",
    "                           'T_y':'T','Ht_y':'Ht','Wt_y':'Wt','DoB_y':'DoB'}, axis=1)\n",
    "all_season_newColnames"
   ]
  },
  {
   "cell_type": "code",
   "execution_count": null,
   "metadata": {},
   "outputs": [],
   "source": [
    "#Some cleaning activities\n",
    "revised_country_values = all_season_newColnames[\"Country_Code\"].str.slice(start=-2).to_list()\n",
    "all_season_newColnames[\"Country_Code\"] = revised_country_values"
   ]
  },
  {
   "cell_type": "code",
   "execution_count": null,
   "metadata": {},
   "outputs": [],
   "source": [
    "all_season_newColnames['OnActv'] = all_season_newColnames['OnActv'].fillna(0).to_list()\n",
    "all_season_newColnames['IL'] = all_season_newColnames['IL'].fillna('').to_list()\n",
    "\n",
    "all_season_newColnames"
   ]
  },
  {
   "cell_type": "code",
   "execution_count": null,
   "metadata": {},
   "outputs": [],
   "source": [
    "non_forty_guys_df = all_season_newColnames.loc[(all_season_newColnames.NatsOrgFlag != 1)] \n",
    "non_forty_guys_df"
   ]
  },
  {
   "cell_type": "code",
   "execution_count": null,
   "metadata": {},
   "outputs": [],
   "source": [
    "non_forty_guys_names = non_forty_guys_df['Name'].to_list()\n",
    "non_forty_guys_names"
   ]
  },
  {
   "cell_type": "code",
   "execution_count": null,
   "metadata": {},
   "outputs": [],
   "source": [
    "try:\n",
    "    non_forty_guys_names.remove('Name')\n",
    "except ValueError:\n",
    "    pass\n",
    "\n",
    "non_forty_guys_names"
   ]
  },
  {
   "cell_type": "code",
   "execution_count": null,
   "metadata": {},
   "outputs": [],
   "source": [
    "team_list_non40_names = []\n",
    "team_list_non40_teams = []\n",
    "all_player_images = []\n",
    "limit = 1\n",
    "for index, player in enumerate(all_season_roster_list):\n",
    "    if index == limit:\n",
    "        break\n",
    "    try:\n",
    "        player_source_tag = roster_soup.find(\"a\", string='Stephen Strasburg')\n",
    "        player_url_endpoint = player_source_tag['href']\n",
    "        player_profile = baseball_reference_main + player_url_endpoint\n",
    "        print(player)\n",
    "        browser.visit(player_profile)\n",
    "        profile_html = browser.html\n",
    "        profile_soup = bs(profile_html, 'html.parser')\n",
    "        team_string_header = profile_soup.find('div',class_='players').find(attrs={\"itemtype\":\"https://schema.org/Person\"}).find(string='Team:').find_parent('p')\n",
    "        print(team_string_header)\n",
    "        player_team_main = team_string_header.a.text\n",
    "        print(player_team_main)\n",
    "        player_team_level_parenthesis = team_string_header.contents[-1]\n",
    "        start_grouping = player_team_level_parenthesis.find(\"(\") + len(\"(\")\n",
    "        end_grouping = player_team_level_parenthesis.find(\")\")\n",
    "        org_injury_info = player_team_level_parenthesis[start_grouping:end_grouping]\n",
    "        org_injury_list = org_injury_info.split(\",\")\n",
    "        print(org_injury_list)\n",
    "        \n",
    "        if \"majors\" in org_injury_list:\n",
    "            print('Should have a 25 man flag & 40 man flag')\n",
    "        elif \"40-man\" in org_injury_list:\n",
    "            print('Should have a 40 man flag ONLY')\n",
    "        else:\n",
    "            print('Should not have a 25 man flag but could be 40 man')\n",
    "            \n",
    "        if \"IL\" in org_injury_list[-1]:\n",
    "            print('Player is injured')\n",
    "            print(org_injury_list[-1])\n",
    "        player_image_tag = profile_soup.find('div', id = 'info').find('div',class_ = 'media-item multiple').img['src']\n",
    "        print(player_image_tag)\n",
    "        \n",
    "#         if player in non_forty_guys_names:\n",
    "#             player_source_tag = roster_soup.find(\"a\", string=player)\n",
    "#             player_url_endpoint = player_source_tag['href']\n",
    "#             player_profile = baseball_reference_main + player_url_endpoint\n",
    "#             print(player)\n",
    "#             browser.visit(player_profile)\n",
    "#             profile_html = browser.html\n",
    "#             profile_soup = bs(profile_html, 'html.parser')\n",
    "#             player_image_tag = profile_soup.find('div', id = 'info').find('div',class_ = 'media-item multiple').img['src']\n",
    "#             print(player_image_tag)\n",
    "#             all_player_images.append(player_image_tag)\n",
    "#             try:\n",
    "#                 team_string_header = profile_soup.find('div',class_='players').find(attrs={\"itemtype\":\"https://schema.org/Person\"}).find(string='Team:')\n",
    "#                 team_parent = team_string_header.find_parent('p').a.text\n",
    "#                 print(team_parent) \n",
    "#                 if team_parent == 'Washington Nationals':\n",
    "#                     team_list_non40_names.append(player)\n",
    "#                 else:\n",
    "#                     pass\n",
    "#             except AttributeError:\n",
    "#                 print('Free Agent or Released')\n",
    "#         elif player in all_season_roster_list:\n",
    "#             player_source_tag = roster_soup.find(\"a\", string=player)\n",
    "#             player_url_endpoint = player_source_tag['href']\n",
    "#             player_profile = baseball_reference_main + player_url_endpoint\n",
    "#             print(player)\n",
    "#             browser.visit(player_profile)\n",
    "#             profile_html = browser.html\n",
    "#             profile_soup = bs(profile_html, 'html.parser')\n",
    "#             player_image_tag = profile_soup.find('div', id = 'info').find('div',class_ = 'media-item multiple').img['src']\n",
    "#             all_player_images.append(player_image_tag)\n",
    "#             print(player_image_tag)\n",
    "#             print('Washington Nationals')\n",
    "#         else:\n",
    "#             all_player_images.append('Placeholder. Possible Error')\n",
    "    except AttributeError:\n",
    "        print('AttributeError')\n",
    "        all_player_images.append('Placeholder. Possible Error')"
   ]
  },
  {
   "cell_type": "code",
   "execution_count": null,
   "metadata": {},
   "outputs": [],
   "source": [
    "print(team_list_non40_names)"
   ]
  },
  {
   "cell_type": "code",
   "execution_count": null,
   "metadata": {},
   "outputs": [],
   "source": [
    "print(all_player_images)"
   ]
  },
  {
   "cell_type": "code",
   "execution_count": null,
   "metadata": {},
   "outputs": [],
   "source": [
    "for name in team_list_non40_names:\n",
    "    all_season_newColnames.loc[all_season_newColnames.Name == name, 'NatsOrgFlag'] = 1\n",
    "    \n",
    "all_season_newColnames"
   ]
  },
  {
   "cell_type": "code",
   "execution_count": null,
   "metadata": {},
   "outputs": [],
   "source": [
    "len(all_player_images)"
   ]
  },
  {
   "cell_type": "code",
   "execution_count": null,
   "metadata": {},
   "outputs": [],
   "source": [
    "all_season_newColnames['Img_URL'] = all_player_images\n",
    "all_season_newColnames"
   ]
  },
  {
   "cell_type": "code",
   "execution_count": null,
   "metadata": {},
   "outputs": [],
   "source": [
    "all_season_players_org_divided = all_season_newColnames[all_season_newColnames.Name != 'Name']"
   ]
  },
  {
   "cell_type": "code",
   "execution_count": null,
   "metadata": {},
   "outputs": [],
   "source": [
    "forty_man_never_mlb = all_season_players_org_divided.loc[all_season_players_org_divided.Age.isna() == True]\n",
    "forty_man_never_mlb"
   ]
  },
  {
   "cell_type": "code",
   "execution_count": null,
   "metadata": {},
   "outputs": [],
   "source": [
    "forty_man_never_mlb_list = forty_man_never_mlb['Name'].to_list()\n",
    "forty_man_never_mlb_list"
   ]
  },
  {
   "cell_type": "code",
   "execution_count": null,
   "metadata": {},
   "outputs": [],
   "source": [
    "for player_name in forty_man_never_mlb_list:\n",
    "    print(player_name)\n",
    "    all_season_players_org_divided.loc[(all_season_players_org_divided.Name == player_name),'Country_Code'] = all_season_roster.loc[all_season_roster['Name'] == player_name,'Country_ISO_Code'].iloc[0]\n",
    "    all_season_players_org_divided.loc[(all_season_players_org_divided.Name == player_name),'B'] = all_season_roster.loc[all_season_roster['Name'] == player_name,'B_x'].iloc[0]\n",
    "    all_season_players_org_divided.loc[(all_season_players_org_divided.Name == player_name),'T'] = all_season_roster.loc[all_season_roster['Name'] == player_name,'T_x'].iloc[0]\n",
    "    all_season_players_org_divided.loc[(all_season_players_org_divided.Name == player_name),'Ht'] = all_season_roster.loc[all_season_roster['Name'] == player_name,'Ht_x'].iloc[0]\n",
    "    all_season_players_org_divided.loc[(all_season_players_org_divided.Name == player_name),'Wt'] = all_season_roster.loc[all_season_roster['Name'] == player_name,'Wt_x'].iloc[0]\n",
    "    all_season_players_org_divided.loc[(all_season_players_org_divided.Name == player_name),'DoB'] = all_season_roster.loc[all_season_roster['Name'] == player_name,'DoB_x'].iloc[0]\n",
    "    all_season_players_org_divided.loc[(all_season_players_org_divided.Name == player_name),'Age'] = all_season_roster.loc[all_season_roster['Name'] == player_name,'Age_x'].iloc[0]\n",
    "    "
   ]
  },
  {
   "cell_type": "code",
   "execution_count": null,
   "metadata": {},
   "outputs": [],
   "source": [
    "#Confirmation of correct mapping\n",
    "all_season_players_org_divided.loc[all_season_players_org_divided.Name == 'Steven Fuentes']"
   ]
  },
  {
   "cell_type": "code",
   "execution_count": null,
   "metadata": {},
   "outputs": [],
   "source": [
    "all_season_players_org_divided['G'] = all_season_players_org_divided['G'].fillna(0).to_list()\n",
    "all_season_players_org_divided['GS'] = all_season_players_org_divided['GS'].fillna(0).to_list()\n",
    "all_season_players_org_divided['P'] = all_season_players_org_divided['P'].fillna(0).to_list()\n",
    "all_season_players_org_divided['1B'] = all_season_players_org_divided['1B'].fillna(0).to_list()\n",
    "all_season_players_org_divided['2B'] = all_season_players_org_divided['2B'].fillna(0).to_list()\n",
    "all_season_players_org_divided['3B'] = all_season_players_org_divided['3B'].fillna(0).to_list()\n",
    "all_season_players_org_divided['SS'] = all_season_players_org_divided['SS'].fillna(0).to_list()\n",
    "all_season_players_org_divided['C'] = all_season_players_org_divided['C'].fillna(0).to_list()\n",
    "all_season_players_org_divided['LF'] = all_season_players_org_divided['LF'].fillna(0).to_list()\n",
    "all_season_players_org_divided['CF'] = all_season_players_org_divided['CF'].fillna(0).to_list()\n",
    "all_season_players_org_divided['RF'] = all_season_players_org_divided['RF'].fillna(0).to_list()\n",
    "all_season_players_org_divided['OF'] = all_season_players_org_divided['OF'].fillna(0).to_list()\n",
    "all_season_players_org_divided['DH'] = all_season_players_org_divided['DH'].fillna(0).to_list()\n",
    "all_season_players_org_divided['PH'] = all_season_players_org_divided['PH'].fillna(0).to_list()\n",
    "all_season_players_org_divided['PR'] = all_season_players_org_divided['PR'].fillna(0).to_list()\n",
    "all_season_players_org_divided['NatsOrgFlag'] = all_season_players_org_divided['NatsOrgFlag'].fillna(0).to_list()"
   ]
  },
  {
   "cell_type": "code",
   "execution_count": null,
   "metadata": {},
   "outputs": [],
   "source": [
    "all_season_players_org_divided.loc[all_season_players_org_divided['Name'] == 'Steven Fuentes']"
   ]
  },
  {
   "cell_type": "code",
   "execution_count": null,
   "metadata": {},
   "outputs": [],
   "source": [
    "all_season_players_org_divided.isnull().values.any()"
   ]
  },
  {
   "cell_type": "code",
   "execution_count": null,
   "metadata": {},
   "outputs": [],
   "source": [
    "all_season_players_org_divided['NatsOrgFlag'] = all_season_players_org_divided['NatsOrgFlag'].astype(int).to_list()\n",
    "all_season_players_org_divided"
   ]
  },
  {
   "cell_type": "code",
   "execution_count": null,
   "metadata": {},
   "outputs": [],
   "source": [
    "try:\n",
    "    all_season_players_org_divided.insert(0, 'Player_ID', range(0, 0 + len(all_season_players_org_divided)))\n",
    "except ValueError:\n",
    "    pass\n",
    "\n",
    "all_season_players_org_divided"
   ]
  },
  {
   "cell_type": "code",
   "execution_count": null,
   "metadata": {},
   "outputs": [],
   "source": [
    "all_season_players_org_divided.to_csv('season_long_roster', index=False) "
   ]
  }
 ],
 "metadata": {
  "kernelspec": {
   "display_name": "Python [conda env:PythonData] *",
   "language": "python",
   "name": "conda-env-PythonData-py"
  },
  "language_info": {
   "codemirror_mode": {
    "name": "ipython",
    "version": 3
   },
   "file_extension": ".py",
   "mimetype": "text/x-python",
   "name": "python",
   "nbconvert_exporter": "python",
   "pygments_lexer": "ipython3",
   "version": "3.6.10"
  }
 },
 "nbformat": 4,
 "nbformat_minor": 4
}
